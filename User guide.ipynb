{
 "cells": [
  {
   "cell_type": "markdown",
   "id": "5c607200-58e6-4771-8544-87cda5a53383",
   "metadata": {},
   "source": [
    "# Supersingular Isogeny Graphs"
   ]
  },
  {
   "cell_type": "markdown",
   "id": "1bd89ef3-443d-4195-9e4a-539008cf452c",
   "metadata": {},
   "source": [
    "This repository contains Python implementations of the algorithms described in [this paper](https://arxiv.org/abs/2303.09096). All of the main algorithms can be found in the module 'supsinggraphs' in the 'code' folder."
   ]
  },
  {
   "cell_type": "code",
   "execution_count": 1,
   "id": "f44f82af-f8b2-4bbe-bb81-8a83df353ef5",
   "metadata": {},
   "outputs": [],
   "source": [
    "import os\n",
    "os.chdir('./code/')"
   ]
  },
  {
   "cell_type": "code",
   "execution_count": 2,
   "id": "841426e5-cfb7-4a21-97af-ecf760d851b3",
   "metadata": {},
   "outputs": [],
   "source": [
    "from supsinggraphs import *"
   ]
  },
  {
   "cell_type": "markdown",
   "id": "ffb41f03-c3aa-4d02-bd7b-4e7765d9f11a",
   "metadata": {
    "scrolled": true
   },
   "source": [
    "## Quick start: Supersingular Isogeny Graphs"
   ]
  },
  {
   "cell_type": "markdown",
   "id": "187bb5ca-3e6f-4ea8-9566-35893da45b51",
   "metadata": {},
   "source": [
    "To obtain information about supersingular isogeny graphs in a given characteristic, we use the class $\\texttt{SupSingGraphs}$. To initialize the class, we need to specify a prime. For concreteness, we will take $p = 83$."
   ]
  },
  {
   "cell_type": "code",
   "execution_count": 3,
   "id": "7e45a98f-47b7-4283-992e-fe27e4b7257e",
   "metadata": {},
   "outputs": [],
   "source": [
    "ss83 = SupSingGraphs(83)"
   ]
  },
  {
   "cell_type": "markdown",
   "id": "08e21f20-44b2-45d2-8f1b-8014bef26c3e",
   "metadata": {},
   "source": [
    "The code does the following when the class is initialized:\n",
    "\n",
    "* A dictionary of square roots of elements in Z/p is computed and stored.\n",
    "* A nonsquare in Z/p is chosen, allowing us to construct the field $\\mathbb{F}_{p^2}$.\n",
    "* A model of a supersingular curve is obtained by counting points on elliptic curves over $\\mathbb{F}_p$.\n",
    "* The 2-isogeny graph is computed using the graph method."
   ]
  },
  {
   "cell_type": "markdown",
   "id": "ab192dc1-6aa2-43c1-a582-c07dbd8da52c",
   "metadata": {},
   "source": [
    "The isogeny graphs are stored as dictionaries. The keys of the dictionary represent the vertices of the graph, i.e. the supersingular $j$-invariants. For a fixed $j_0$, we collect all edges of the form $j_0 \\to j_1$ and create a list associated to $j_0$ whose entries are the endpoints $j_1$. The value associated to the key $j_0$ is this list of endpoints."
   ]
  },
  {
   "cell_type": "code",
   "execution_count": 4,
   "id": "8069696e-9bdc-440b-9da6-3bac00f3b8b2",
   "metadata": {},
   "outputs": [],
   "source": [
    "g2p83 = ss83.g2"
   ]
  },
  {
   "cell_type": "code",
   "execution_count": 5,
   "id": "5878c5be-c8d8-46eb-bf9d-cd40feeb9cd3",
   "metadata": {},
   "outputs": [
    {
     "data": {
      "text/plain": [
       "{68: [68, 67, 67],\n",
       " 67: [68, 38+66 sqrt(-1), 38+17 sqrt(-1)],\n",
       " 38+66 sqrt(-1): [67, 17, 38+17 sqrt(-1)],\n",
       " 38+17 sqrt(-1): [67, 38+66 sqrt(-1), 17],\n",
       " 17: [38+66 sqrt(-1), 50, 38+17 sqrt(-1)],\n",
       " 50: [17, 28, 0],\n",
       " 28: [50, 28, 28],\n",
       " 0: [50, 50, 50]}"
      ]
     },
     "execution_count": 5,
     "metadata": {},
     "output_type": "execute_result"
    }
   ],
   "source": [
    "g2p83"
   ]
  },
  {
   "cell_type": "markdown",
   "id": "e6fed92b-b969-410d-8506-fe6dca3a5432",
   "metadata": {},
   "source": [
    "For example, we see that the curve with $j = 68$ has an isogeny of degree 2 to itself, and a pair of isogenies to the curve with $j = 67$, the curve with $j = 67$ has a dual isogeny going back to $j=68$, as well has isogenies going to the curves with $j = 38\\pm 17 \\sqrt{-1}$, etc."
   ]
  },
  {
   "cell_type": "markdown",
   "id": "2fcf0efa-6161-4fc7-84b7-b92e194f002f",
   "metadata": {},
   "source": [
    "The set of supersingular $j$-invariants can be read off from the 2-isogeny graph, and obtained as:"
   ]
  },
  {
   "cell_type": "code",
   "execution_count": 6,
   "id": "e8728cf2-3043-49ef-b4f7-02ca89b58d89",
   "metadata": {},
   "outputs": [
    {
     "data": {
      "text/plain": [
       "[68, 67, 38+66 sqrt(-1), 38+17 sqrt(-1), 17, 50, 28, 0]"
      ]
     },
     "execution_count": 6,
     "metadata": {},
     "output_type": "execute_result"
    }
   ],
   "source": [
    "js83 = ss83.j_invariants()\n",
    "js83"
   ]
  },
  {
   "cell_type": "markdown",
   "id": "5c9dda00-804f-4e32-9dff-fb5a879b17a4",
   "metadata": {},
   "source": [
    "To obtain isogeny graphs for odd supersingular primes, we use ss83.isogeny_graph($\\ell$), e.g. to obtain the graph of level 11:"
   ]
  },
  {
   "cell_type": "code",
   "execution_count": 4,
   "id": "fb6090d5-0078-4194-a1c5-b3a739fb2975",
   "metadata": {
    "scrolled": true
   },
   "outputs": [
    {
     "data": {
      "text/plain": [
       "{68: [50,\n",
       "  50,\n",
       "  28,\n",
       "  28,\n",
       "  38+17 sqrt(-1),\n",
       "  38+17 sqrt(-1),\n",
       "  67,\n",
       "  67,\n",
       "  67,\n",
       "  67,\n",
       "  38+66 sqrt(-1),\n",
       "  38+66 sqrt(-1)],\n",
       " 67: [17,\n",
       "  0,\n",
       "  38+66 sqrt(-1),\n",
       "  68,\n",
       "  28,\n",
       "  17,\n",
       "  38+66 sqrt(-1),\n",
       "  38+17 sqrt(-1),\n",
       "  17,\n",
       "  28,\n",
       "  68,\n",
       "  38+17 sqrt(-1)],\n",
       " 38+66 sqrt(-1): [67,\n",
       "  67,\n",
       "  50,\n",
       "  50,\n",
       "  28,\n",
       "  17,\n",
       "  50,\n",
       "  17,\n",
       "  68,\n",
       "  38+66 sqrt(-1),\n",
       "  38+66 sqrt(-1),\n",
       "  38+66 sqrt(-1)],\n",
       " 38+17 sqrt(-1): [68,\n",
       "  17,\n",
       "  50,\n",
       "  17,\n",
       "  28,\n",
       "  50,\n",
       "  50,\n",
       "  67,\n",
       "  67,\n",
       "  38+17 sqrt(-1),\n",
       "  38+17 sqrt(-1),\n",
       "  38+17 sqrt(-1)],\n",
       " 17: [67,\n",
       "  0,\n",
       "  38+17 sqrt(-1),\n",
       "  67,\n",
       "  38+17 sqrt(-1),\n",
       "  28,\n",
       "  28,\n",
       "  38+66 sqrt(-1),\n",
       "  67,\n",
       "  38+66 sqrt(-1),\n",
       "  0,\n",
       "  17],\n",
       " 50: [68,\n",
       "  38+17 sqrt(-1),\n",
       "  28,\n",
       "  38+17 sqrt(-1),\n",
       "  38+66 sqrt(-1),\n",
       "  38+17 sqrt(-1),\n",
       "  38+66 sqrt(-1),\n",
       "  28,\n",
       "  38+66 sqrt(-1),\n",
       "  50,\n",
       "  50,\n",
       "  50],\n",
       " 28: [68, 0, 67, 50, 17, 38+17 sqrt(-1), 38+66 sqrt(-1), 17, 50, 67, 28, 28],\n",
       " 0: [67, 67, 67, 28, 28, 28, 17, 17, 17, 17, 17, 17]}"
      ]
     },
     "execution_count": 4,
     "metadata": {},
     "output_type": "execute_result"
    }
   ],
   "source": [
    "g11p83 = ss83.isogeny_graph(11)\n",
    "g11p83"
   ]
  },
  {
   "cell_type": "code",
   "execution_count": null,
   "id": "0439e887-b156-4aa3-9cf4-b152cf08e63e",
   "metadata": {},
   "outputs": [],
   "source": []
  },
  {
   "cell_type": "markdown",
   "id": "e3196325-8a6c-45d4-965a-4a5088e2da27",
   "metadata": {},
   "source": [
    "## Adjacency Matrix\n",
    "If we only need the adjacency matrix of the graph - i.e. we only care about the structure of the graph, and not the $j$-invariants themselves - we can obtain the matrix as follows:"
   ]
  },
  {
   "cell_type": "code",
   "execution_count": 6,
   "id": "c269d27f-0b45-4db7-ba73-6ae2ae64a073",
   "metadata": {},
   "outputs": [
    {
     "data": {
      "text/plain": [
       "[[0, 4, 2, 2, 0, 2, 2, 0],\n",
       " [2, 0, 2, 2, 3, 0, 2, 1],\n",
       " [1, 2, 3, 0, 2, 3, 1, 0],\n",
       " [1, 2, 0, 3, 2, 3, 1, 0],\n",
       " [0, 3, 2, 2, 1, 0, 2, 2],\n",
       " [1, 0, 3, 3, 0, 3, 2, 0],\n",
       " [1, 2, 1, 1, 2, 2, 2, 1],\n",
       " [0, 3, 0, 0, 6, 0, 3, 0]]"
      ]
     },
     "execution_count": 6,
     "metadata": {},
     "output_type": "execute_result"
    }
   ],
   "source": [
    "m11p83 = ss83.adj_matrix(11)\n",
    "m11p83"
   ]
  },
  {
   "cell_type": "markdown",
   "id": "fe325bfc-924f-4af0-a727-f3ab5b7a790b",
   "metadata": {},
   "source": [
    "Note that if we've already computed the graph, the matrix can be recovered using the 'graph2mat' function. This will avoid having to recompute the graph."
   ]
  },
  {
   "cell_type": "code",
   "execution_count": 7,
   "id": "b1ede6aa-a151-4198-9697-96a18004272b",
   "metadata": {},
   "outputs": [
    {
     "data": {
      "text/plain": [
       "[[0, 4, 2, 2, 0, 2, 2, 0],\n",
       " [2, 0, 2, 2, 3, 0, 2, 1],\n",
       " [1, 2, 3, 0, 2, 3, 1, 0],\n",
       " [1, 2, 0, 3, 2, 3, 1, 0],\n",
       " [0, 3, 2, 2, 1, 0, 2, 2],\n",
       " [1, 0, 3, 3, 0, 3, 2, 0],\n",
       " [1, 2, 1, 1, 2, 2, 2, 1],\n",
       " [0, 3, 0, 0, 6, 0, 3, 0]]"
      ]
     },
     "execution_count": 7,
     "metadata": {},
     "output_type": "execute_result"
    }
   ],
   "source": [
    "graph2mat(g11p83)"
   ]
  },
  {
   "cell_type": "markdown",
   "id": "19b45bdf-afd4-431c-a7c4-0258cdf59e38",
   "metadata": {},
   "source": [
    "### Trace computations\n",
    "While we can only compute the graph for a small set of levels, we can determine the trace of the adjacency matrix using data which is much easier to compute: we just need to know the cardinalities of all elliptic curves over $\\mathbb{F}_\\ell$ to determine the trace of $\\Gamma_{p,\\ell}$ for all $p$.\n",
    "\n",
    "The relevant data for $\\ell < 2^{14}$ was computed and is stored in a dataframe called 'dmcdf'. To obtain the prediction for the trace based on that data, we just do the following:"
   ]
  },
  {
   "cell_type": "code",
   "execution_count": 48,
   "id": "65727a35-23e6-4f66-84f0-39c3d950f40e",
   "metadata": {
    "scrolled": true
   },
   "outputs": [
    {
     "data": {
      "text/plain": [
       "80"
      ]
     },
     "execution_count": 48,
     "metadata": {},
     "output_type": "execute_result"
    }
   ],
   "source": [
    "trace_pred(883,73)"
   ]
  },
  {
   "cell_type": "markdown",
   "id": "07ecb2bb-df41-4ef9-aaf8-46333bde7346",
   "metadata": {},
   "source": [
    "### Quick Remarks"
   ]
  },
  {
   "cell_type": "markdown",
   "id": "d3879389-c36a-4efc-86ff-5b4ade6e1e42",
   "metadata": {},
   "source": [
    "The $j$-invariants are instances of the class $\\texttt{EltFp2}$ (described below)."
   ]
  },
  {
   "cell_type": "code",
   "execution_count": 34,
   "id": "a0510c2e-3696-448d-bda0-bc4d46ed2ebc",
   "metadata": {},
   "outputs": [
    {
     "data": {
      "text/plain": [
       "supsinggraphs.EltFp2"
      ]
     },
     "execution_count": 34,
     "metadata": {},
     "output_type": "execute_result"
    }
   ],
   "source": [
    "type(js883[0])"
   ]
  },
  {
   "cell_type": "markdown",
   "id": "17765423-7ee2-4c79-9265-705bd431a068",
   "metadata": {},
   "source": [
    "For now, the level chosen must be a supersingular prime - i.e. one of the following 15 primes:"
   ]
  },
  {
   "cell_type": "code",
   "execution_count": 8,
   "id": "4091b568-a056-4d35-adb2-6792db72db6f",
   "metadata": {},
   "outputs": [
    {
     "data": {
      "text/plain": [
       "[2, 3, 5, 7, 11, 13, 17, 19, 23, 29, 31, 41, 47, 59, 71]"
      ]
     },
     "execution_count": 8,
     "metadata": {},
     "output_type": "execute_result"
    }
   ],
   "source": [
    "supersingularprimes"
   ]
  },
  {
   "cell_type": "markdown",
   "id": "8ec3006d-b0e7-4fb7-af91-3f0e104a0085",
   "metadata": {},
   "source": [
    "We have to restrict to these levels, because the algorithm requires formulae for the Atkin modular polynomials, and we've only obtained these formulae for supersingular primes. If we obtain additonal formulae in the future, they can easily be incorporated into the code."
   ]
  },
  {
   "cell_type": "markdown",
   "id": "ba1b0e6c-5448-4146-b25a-d438d4030712",
   "metadata": {},
   "source": [
    "This means that the trace of the adjacency matrix of the graph for $p = 883,\\ell = 73$ is 80."
   ]
  },
  {
   "cell_type": "markdown",
   "id": "faa6331a-46da-45bb-a36e-4fa75fa93065",
   "metadata": {},
   "source": [
    "## DataFrames\n",
    "The two main algorithms require data to run:\n",
    "* The isogeny graph computation needs coefficients of the modular polynomial\n",
    "* The trace prediction needs data about elliptic curves in characteristic $\\ell$.\n",
    "This data is stored in Pandas dataframes, and can be accessed directly if so desired."
   ]
  },
  {
   "cell_type": "markdown",
   "id": "f929e226-1c20-47af-8e8b-e2aafbb7b445",
   "metadata": {},
   "source": [
    "### Atkin Polynomials\n",
    "Equations for the Atkin polynomials of level $\\ell$ were obtained from SageMath for the 15 supersingular primes.\n",
    "These can be found in the dataframe called 'adf':"
   ]
  },
  {
   "cell_type": "code",
   "execution_count": 36,
   "id": "9fc25592-66e9-47b8-850e-ddcdacb0e70f",
   "metadata": {},
   "outputs": [
    {
     "data": {
      "text/html": [
       "<div>\n",
       "<style scoped>\n",
       "    .dataframe tbody tr th:only-of-type {\n",
       "        vertical-align: middle;\n",
       "    }\n",
       "\n",
       "    .dataframe tbody tr th {\n",
       "        vertical-align: top;\n",
       "    }\n",
       "\n",
       "    .dataframe thead th {\n",
       "        text-align: right;\n",
       "    }\n",
       "</style>\n",
       "<table border=\"1\" class=\"dataframe\">\n",
       "  <thead>\n",
       "    <tr style=\"text-align: right;\">\n",
       "      <th></th>\n",
       "      <th>l</th>\n",
       "      <th>a_coefs</th>\n",
       "      <th>b_coefs1</th>\n",
       "      <th>b_coefs3</th>\n",
       "      <th>diag_ds</th>\n",
       "    </tr>\n",
       "  </thead>\n",
       "  <tbody>\n",
       "    <tr>\n",
       "      <th>0</th>\n",
       "      <td>2</td>\n",
       "      <td>[-7256, 1, 1]</td>\n",
       "      <td>[1]</td>\n",
       "      <td>[248, 1]</td>\n",
       "      <td>[-7, -2, -1]</td>\n",
       "    </tr>\n",
       "    <tr>\n",
       "      <th>1</th>\n",
       "      <td>3</td>\n",
       "      <td>[-24528, -2348, 0, 1]</td>\n",
       "      <td>[42, 1]</td>\n",
       "      <td>[234, 1]</td>\n",
       "      <td>[-12, -11, -3, -2]</td>\n",
       "    </tr>\n",
       "    <tr>\n",
       "      <th>2</th>\n",
       "      <td>5</td>\n",
       "      <td>[449408, 73056, -3800, -670, 0, 1]</td>\n",
       "      <td>[1]</td>\n",
       "      <td>[3856, 248, 1]</td>\n",
       "      <td>[-19, -11, -5, -4, -1]</td>\n",
       "    </tr>\n",
       "    <tr>\n",
       "      <th>3</th>\n",
       "      <td>7</td>\n",
       "      <td>[-2128500, -186955, 204792, 31647, -1428, -357...</td>\n",
       "      <td>[81, 18, 1]</td>\n",
       "      <td>[2545, 242, 1]</td>\n",
       "      <td>[-28, -27, -19, -12, -7, -6, -3]</td>\n",
       "    </tr>\n",
       "    <tr>\n",
       "      <th>4</th>\n",
       "      <td>11</td>\n",
       "      <td>[8720000, 19849600, 8252640, -1867712, -167578...</td>\n",
       "      <td>[1]</td>\n",
       "      <td>[38800, 21920, 4056, 248, 1]</td>\n",
       "      <td>[-44, -43, -35, -28, -19, -11, -10, -7, -2]</td>\n",
       "    </tr>\n",
       "    <tr>\n",
       "      <th>5</th>\n",
       "      <td>13</td>\n",
       "      <td>[-24576000, -32384000, 5859360, 23669490, 9614...</td>\n",
       "      <td>[9, 6, 1]</td>\n",
       "      <td>[25600, 16800, 3577, 246, 1]</td>\n",
       "      <td>[-51, -48, -43, -27, -13, -12, -9, -4, -3, -1]</td>\n",
       "    </tr>\n",
       "    <tr>\n",
       "      <th>6</th>\n",
       "      <td>17</td>\n",
       "      <td>[25608112, 128884056, 169635044, 18738794, -12...</td>\n",
       "      <td>[1]</td>\n",
       "      <td>[73252, 122444, 80561, 25988, 4082, 248, 1]</td>\n",
       "      <td>[-67, -59, -43, -19, -17, -16, -13, -8, -4, -2...</td>\n",
       "    </tr>\n",
       "    <tr>\n",
       "      <th>7</th>\n",
       "      <td>19</td>\n",
       "      <td>[-24576000, -90675200, -51363840, 196605312, 3...</td>\n",
       "      <td>[9, 6, 1]</td>\n",
       "      <td>[25600, 57280, 48544, 19312, 3593, 246, 1]</td>\n",
       "      <td>[-76, -75, -67, -60, -51, -27, -19, -18, -15, ...</td>\n",
       "    </tr>\n",
       "    <tr>\n",
       "      <th>8</th>\n",
       "      <td>23</td>\n",
       "      <td>[-65536, -516096, -1648640, -2213888, 1554432,...</td>\n",
       "      <td>[1]</td>\n",
       "      <td>[1024, 5376, 12992, 18432, 16224, 8352, 2384, ...</td>\n",
       "      <td>[-92, -91, -83, -76, -67, -43, -28, -23, -22, ...</td>\n",
       "    </tr>\n",
       "    <tr>\n",
       "      <th>9</th>\n",
       "      <td>29</td>\n",
       "      <td>[-6750, -12150, 281880, 570024, -1754181, -522...</td>\n",
       "      <td>[1]</td>\n",
       "      <td>[225, 270, 459, -744, -3707, -1730, 3365, 4072...</td>\n",
       "      <td>[-115, -112, -107, -91, -67, -35, -29, -28, -2...</td>\n",
       "    </tr>\n",
       "    <tr>\n",
       "      <th>10</th>\n",
       "      <td>31</td>\n",
       "      <td>[-65536, 286720, 2095104, -10856448, -952320, ...</td>\n",
       "      <td>[1, -2, 1]</td>\n",
       "      <td>[1024, -2304, 448, 4096, -2208, -5088, 272, 36...</td>\n",
       "      <td>[-124, -123, -115, -108, -99, -75, -60, -43, -...</td>\n",
       "    </tr>\n",
       "    <tr>\n",
       "      <th>11</th>\n",
       "      <td>41</td>\n",
       "      <td>[16000, 67200, -465760, -2966432, -1742664, 20...</td>\n",
       "      <td>[1]</td>\n",
       "      <td>[400, 1120, -184, -672, 2361, -2926, -7733, 30...</td>\n",
       "      <td>[-163, -155, -139, -115, -83, -43, -41, -40, -...</td>\n",
       "    </tr>\n",
       "    <tr>\n",
       "      <th>12</th>\n",
       "      <td>47</td>\n",
       "      <td>[-65536, 688128, -2502656, -96256, 38598656, -...</td>\n",
       "      <td>[1]</td>\n",
       "      <td>[1024, -7168, 25024, -57984, 102656, -143584, ...</td>\n",
       "      <td>[-188, -187, -179, -172, -163, -139, -124, -10...</td>\n",
       "    </tr>\n",
       "    <tr>\n",
       "      <th>13</th>\n",
       "      <td>59</td>\n",
       "      <td>[16000, -67200, -783520, 5573376, -5127336, -6...</td>\n",
       "      <td>[1]</td>\n",
       "      <td>[400, -1120, -776, 3144, 4945, -10532, -23442,...</td>\n",
       "      <td>[-236, -235, -227, -220, -211, -187, -172, -15...</td>\n",
       "    </tr>\n",
       "    <tr>\n",
       "      <th>14</th>\n",
       "      <td>71</td>\n",
       "      <td>[-6750, 97200, -603855, 2263977, -4854483, -24...</td>\n",
       "      <td>[1]</td>\n",
       "      <td>[225, -2160, 9936, -33576, 98512, -235776, 501...</td>\n",
       "      <td>[-284, -283, -275, -268, -259, -235, -220, -20...</td>\n",
       "    </tr>\n",
       "  </tbody>\n",
       "</table>\n",
       "</div>"
      ],
      "text/plain": [
       "     l                                            a_coefs     b_coefs1  \\\n",
       "0    2                                      [-7256, 1, 1]          [1]   \n",
       "1    3                              [-24528, -2348, 0, 1]      [42, 1]   \n",
       "2    5                 [449408, 73056, -3800, -670, 0, 1]          [1]   \n",
       "3    7  [-2128500, -186955, 204792, 31647, -1428, -357...  [81, 18, 1]   \n",
       "4   11  [8720000, 19849600, 8252640, -1867712, -167578...          [1]   \n",
       "5   13  [-24576000, -32384000, 5859360, 23669490, 9614...    [9, 6, 1]   \n",
       "6   17  [25608112, 128884056, 169635044, 18738794, -12...          [1]   \n",
       "7   19  [-24576000, -90675200, -51363840, 196605312, 3...    [9, 6, 1]   \n",
       "8   23  [-65536, -516096, -1648640, -2213888, 1554432,...          [1]   \n",
       "9   29  [-6750, -12150, 281880, 570024, -1754181, -522...          [1]   \n",
       "10  31  [-65536, 286720, 2095104, -10856448, -952320, ...   [1, -2, 1]   \n",
       "11  41  [16000, 67200, -465760, -2966432, -1742664, 20...          [1]   \n",
       "12  47  [-65536, 688128, -2502656, -96256, 38598656, -...          [1]   \n",
       "13  59  [16000, -67200, -783520, 5573376, -5127336, -6...          [1]   \n",
       "14  71  [-6750, 97200, -603855, 2263977, -4854483, -24...          [1]   \n",
       "\n",
       "                                             b_coefs3  \\\n",
       "0                                            [248, 1]   \n",
       "1                                            [234, 1]   \n",
       "2                                      [3856, 248, 1]   \n",
       "3                                      [2545, 242, 1]   \n",
       "4                        [38800, 21920, 4056, 248, 1]   \n",
       "5                        [25600, 16800, 3577, 246, 1]   \n",
       "6         [73252, 122444, 80561, 25988, 4082, 248, 1]   \n",
       "7          [25600, 57280, 48544, 19312, 3593, 246, 1]   \n",
       "8   [1024, 5376, 12992, 18432, 16224, 8352, 2384, ...   \n",
       "9   [225, 270, 459, -744, -3707, -1730, 3365, 4072...   \n",
       "10  [1024, -2304, 448, 4096, -2208, -5088, 272, 36...   \n",
       "11  [400, 1120, -184, -672, 2361, -2926, -7733, 30...   \n",
       "12  [1024, -7168, 25024, -57984, 102656, -143584, ...   \n",
       "13  [400, -1120, -776, 3144, 4945, -10532, -23442,...   \n",
       "14  [225, -2160, 9936, -33576, 98512, -235776, 501...   \n",
       "\n",
       "                                              diag_ds  \n",
       "0                                        [-7, -2, -1]  \n",
       "1                                  [-12, -11, -3, -2]  \n",
       "2                              [-19, -11, -5, -4, -1]  \n",
       "3                    [-28, -27, -19, -12, -7, -6, -3]  \n",
       "4         [-44, -43, -35, -28, -19, -11, -10, -7, -2]  \n",
       "5      [-51, -48, -43, -27, -13, -12, -9, -4, -3, -1]  \n",
       "6   [-67, -59, -43, -19, -17, -16, -13, -8, -4, -2...  \n",
       "7   [-76, -75, -67, -60, -51, -27, -19, -18, -15, ...  \n",
       "8   [-92, -91, -83, -76, -67, -43, -28, -23, -22, ...  \n",
       "9   [-115, -112, -107, -91, -67, -35, -29, -28, -2...  \n",
       "10  [-124, -123, -115, -108, -99, -75, -60, -43, -...  \n",
       "11  [-163, -155, -139, -115, -83, -43, -41, -40, -...  \n",
       "12  [-188, -187, -179, -172, -163, -139, -124, -10...  \n",
       "13  [-236, -235, -227, -220, -211, -187, -172, -15...  \n",
       "14  [-284, -283, -275, -268, -259, -235, -220, -20...  "
      ]
     },
     "execution_count": 36,
     "metadata": {},
     "output_type": "execute_result"
    }
   ],
   "source": [
    "adf"
   ]
  },
  {
   "cell_type": "markdown",
   "id": "907e2816-8893-450a-99f0-b90eb53535a8",
   "metadata": {},
   "source": [
    "The Atkin polynomial of level $\\ell$ has the form $x^2 - a(y) x + b(y)$, where $a(y), b(y)$ are monic polynomials of degree $\\ell, \\ell+1$, respectively. \n",
    "* The column 'a_coefs' gives the coefficients of $a(y)$.\n",
    "* The polynomial $b(y)$ is divisible by a cube, i.e. it has the form $b(y) = b_1(y) b_3(y)^3$. The column 'b_coefs1' gives the coefficients of $b_1(y)$ and the column 'b_coefs3' gives the coefficients of $b_3(y)$. Recording $b(y)$ in this way allows us to speed up the evaluation of the polynomial by a factor of 3. "
   ]
  },
  {
   "cell_type": "markdown",
   "id": "161b2b82-e667-486a-b659-6909fa3488cb",
   "metadata": {},
   "source": [
    "### Trace data\n",
    "The data needed to compute the trace is in a dataframe called 'dmcdf'"
   ]
  },
  {
   "cell_type": "code",
   "execution_count": 50,
   "id": "b38a5371-acf2-46ce-a73c-59707a7b1309",
   "metadata": {},
   "outputs": [
    {
     "data": {
      "text/html": [
       "<div>\n",
       "<style scoped>\n",
       "    .dataframe tbody tr th:only-of-type {\n",
       "        vertical-align: middle;\n",
       "    }\n",
       "\n",
       "    .dataframe tbody tr th {\n",
       "        vertical-align: top;\n",
       "    }\n",
       "\n",
       "    .dataframe thead th {\n",
       "        text-align: right;\n",
       "    }\n",
       "</style>\n",
       "<table border=\"1\" class=\"dataframe\">\n",
       "  <thead>\n",
       "    <tr style=\"text-align: right;\">\n",
       "      <th></th>\n",
       "      <th>d</th>\n",
       "      <th>m</th>\n",
       "      <th>Count</th>\n",
       "    </tr>\n",
       "  </thead>\n",
       "  <tbody>\n",
       "    <tr>\n",
       "      <th>(-20, 1)</th>\n",
       "      <td>-20</td>\n",
       "      <td>1</td>\n",
       "      <td>2</td>\n",
       "    </tr>\n",
       "    <tr>\n",
       "      <th>(-19, 1)</th>\n",
       "      <td>-19</td>\n",
       "      <td>1</td>\n",
       "      <td>1</td>\n",
       "    </tr>\n",
       "    <tr>\n",
       "      <th>(-4, 2)</th>\n",
       "      <td>-4</td>\n",
       "      <td>2</td>\n",
       "      <td>2</td>\n",
       "    </tr>\n",
       "    <tr>\n",
       "      <th>(-11, 1)</th>\n",
       "      <td>-11</td>\n",
       "      <td>1</td>\n",
       "      <td>1</td>\n",
       "    </tr>\n",
       "    <tr>\n",
       "      <th>(-4, 1)</th>\n",
       "      <td>-4</td>\n",
       "      <td>1</td>\n",
       "      <td>1</td>\n",
       "    </tr>\n",
       "    <tr>\n",
       "      <th>...</th>\n",
       "      <td>...</td>\n",
       "      <td>...</td>\n",
       "      <td>...</td>\n",
       "    </tr>\n",
       "    <tr>\n",
       "      <th>(-804, 9)</th>\n",
       "      <td>-804</td>\n",
       "      <td>9</td>\n",
       "      <td>156</td>\n",
       "    </tr>\n",
       "    <tr>\n",
       "      <th>(-16260, 2)</th>\n",
       "      <td>-16260</td>\n",
       "      <td>2</td>\n",
       "      <td>192</td>\n",
       "    </tr>\n",
       "    <tr>\n",
       "      <th>(-4039, 4)</th>\n",
       "      <td>-4039</td>\n",
       "      <td>4</td>\n",
       "      <td>168</td>\n",
       "    </tr>\n",
       "    <tr>\n",
       "      <th>(-63924, 1)</th>\n",
       "      <td>-63924</td>\n",
       "      <td>1</td>\n",
       "      <td>120</td>\n",
       "    </tr>\n",
       "    <tr>\n",
       "      <th>(-516, 10)</th>\n",
       "      <td>-516</td>\n",
       "      <td>10</td>\n",
       "      <td>180</td>\n",
       "    </tr>\n",
       "  </tbody>\n",
       "</table>\n",
       "<p>24350 rows × 3 columns</p>\n",
       "</div>"
      ],
      "text/plain": [
       "                 d   m  Count\n",
       "(-20, 1)       -20   1      2\n",
       "(-19, 1)       -19   1      1\n",
       "(-4, 2)         -4   2      2\n",
       "(-11, 1)       -11   1      1\n",
       "(-4, 1)         -4   1      1\n",
       "...            ...  ..    ...\n",
       "(-804, 9)     -804   9    156\n",
       "(-16260, 2) -16260   2    192\n",
       "(-4039, 4)   -4039   4    168\n",
       "(-63924, 1) -63924   1    120\n",
       "(-516, 10)    -516  10    180\n",
       "\n",
       "[24350 rows x 3 columns]"
      ]
     },
     "execution_count": 50,
     "metadata": {},
     "output_type": "execute_result"
    }
   ],
   "source": [
    "dmcdf"
   ]
  },
  {
   "cell_type": "markdown",
   "id": "c36d13a5-2b39-4cde-b44e-12cf3c8f2171",
   "metadata": {},
   "source": [
    "Each row contains information obtained by counting points on curves that will be used to determine the degree of the Hurwitz class polynomial $H_{-d,m}$. This allows us to compute the trace using methods described in the paper."
   ]
  },
  {
   "cell_type": "markdown",
   "id": "47d9cbe3-d342-4a37-8397-5e0985bd832b",
   "metadata": {},
   "source": [
    "## Computing in $\\mathbb{F}_{p^2}$\n",
    "\n",
    "While the trace computations can be done using $\\texttt{int}$ type objects, the isogeny graph requires computations in $\\mathbb{F}_{p^2}$, so we constructed the class $\\texttt{EltFp2}$ to streamline the code for those computations."
   ]
  },
  {
   "cell_type": "markdown",
   "id": "77e1b2b0-6471-44d4-9e42-f9b5fae89b53",
   "metadata": {},
   "source": [
    "To construct an element of $\\mathbb{F}_{p^2}$, we need to provide a nonnegative integer $n$ and an odd prime $p$, where $n < p^2$.\n",
    "\n",
    "If $n = a + b p$, for $a, b < p$, then $\\texttt{EltFp2}(n,p)$ will represent $a + b \\sqrt{-d}$ for some predetermined nonsquare in $\\mathbb{F_p}$. We can do basic arithmetic in $\\mathbb{F}_{p^2}$ using the usual operators (*,+,**,-,//)"
   ]
  },
  {
   "cell_type": "code",
   "execution_count": 51,
   "id": "700512f0-eda3-4576-b5ed-20acbf350f5c",
   "metadata": {},
   "outputs": [],
   "source": [
    "x0 = EltFp2(2,193)\n",
    "x1 = EltFp2(199,193)\n",
    "x2 = EltFp2(1000,193)"
   ]
  },
  {
   "cell_type": "code",
   "execution_count": 68,
   "id": "28b6e547-5505-4a39-b155-8b6c01d3be52",
   "metadata": {},
   "outputs": [
    {
     "data": {
      "text/plain": [
       "[2,\n",
       " 6+1 sqrt(-11),\n",
       " 35+5 sqrt(-11),\n",
       " 97+22 sqrt(-11),\n",
       " 170+181 sqrt(-11),\n",
       " 51+92 sqrt(-11)]"
      ]
     },
     "execution_count": 68,
     "metadata": {},
     "output_type": "execute_result"
    }
   ],
   "source": [
    "[x0,x1,x2,x0+2*x2+x1**2,x0-x1**2, x1//x2]"
   ]
  },
  {
   "cell_type": "markdown",
   "id": "ad0bf54e-60ba-40a9-b468-47a9f5644cc5",
   "metadata": {},
   "source": [
    "To compute the isogeny graphs using the Atkin polynomials, we also need to be able to do the following:\n",
    "* Evaluate polynomials at points in $\\mathbb{F}_{p^2}$.\n",
    "* Compute square roots in $\\mathbb{F}_{p^2}$, or show that there are no square roots.\n",
    "\n",
    "We can do both as follows:"
   ]
  },
  {
   "cell_type": "code",
   "execution_count": 58,
   "id": "e09af29a-ce5b-43d0-a184-d70ea6879552",
   "metadata": {},
   "outputs": [
    {
     "data": {
      "text/plain": [
       "[26+95 sqrt(-11), 26+95 sqrt(-11)]"
      ]
     },
     "execution_count": 58,
     "metadata": {},
     "output_type": "execute_result"
    }
   ],
   "source": [
    "[x2.eval_poly([1,2,3]),x2**0+2*x2+3*x2**2]"
   ]
  },
  {
   "cell_type": "code",
   "execution_count": 67,
   "id": "a2551921-4b97-41ef-82d7-4774dd05cd91",
   "metadata": {},
   "outputs": [
    {
     "data": {
      "text/plain": [
       "[[], [], [35+125 sqrt(-11), 158+68 sqrt(-11)]]"
      ]
     },
     "execution_count": 67,
     "metadata": {},
     "output_type": "execute_result"
    }
   ],
   "source": [
    "[(x1).sqrts(),x2.sqrts(),(x1*x2).sqrts()]"
   ]
  },
  {
   "cell_type": "markdown",
   "id": "91cff41d-583a-404c-8990-dcaee11b0cbd",
   "metadata": {},
   "source": [
    "## Primes"
   ]
  },
  {
   "cell_type": "markdown",
   "id": "7f89bd39-b366-4805-a295-3036e4c48a57",
   "metadata": {},
   "source": [
    "To get started, we need some primes.\n",
    "The code in the $\\texttt{primefind}$ module allows us to generate lists of primes."
   ]
  },
  {
   "cell_type": "code",
   "execution_count": 2,
   "id": "3748eec4-7fe8-4096-a822-b2f4fff9ecd5",
   "metadata": {},
   "outputs": [],
   "source": [
    "from primes.primefind import primesBetween"
   ]
  },
  {
   "cell_type": "code",
   "execution_count": 3,
   "id": "9ed2153f-99a9-4fc2-9a60-7cbaca4f4cad",
   "metadata": {},
   "outputs": [],
   "source": [
    "primes = primesBetween(4,2**14)"
   ]
  },
  {
   "cell_type": "code",
   "execution_count": 4,
   "id": "eca7c199-758d-471b-bd30-ee07636b566e",
   "metadata": {},
   "outputs": [
    {
     "data": {
      "text/plain": [
       "[5, 7, 11, 13, 17, 19, 23, 29, 31, 37]"
      ]
     },
     "execution_count": 4,
     "metadata": {},
     "output_type": "execute_result"
    }
   ],
   "source": [
    "primes[:10]"
   ]
  },
  {
   "cell_type": "code",
   "execution_count": 5,
   "id": "06f8f75d-bff0-42fb-a32e-a9b60a87dc2a",
   "metadata": {},
   "outputs": [
    {
     "data": {
      "text/plain": [
       "[16273, 16301, 16319, 16333, 16339, 16349, 16361, 16363, 16369, 16381]"
      ]
     },
     "execution_count": 5,
     "metadata": {},
     "output_type": "execute_result"
    }
   ],
   "source": [
    "primes[-10:]"
   ]
  },
  {
   "cell_type": "code",
   "execution_count": 6,
   "id": "47e3f61a-8cb7-419c-9deb-acedb87b56e0",
   "metadata": {},
   "outputs": [
    {
     "data": {
      "text/plain": [
       "1898"
      ]
     },
     "execution_count": 6,
     "metadata": {},
     "output_type": "execute_result"
    }
   ],
   "source": [
    "len(primes)"
   ]
  },
  {
   "cell_type": "code",
   "execution_count": null,
   "id": "ef8eb1af-92dc-4532-98ad-f8e5f2c46551",
   "metadata": {},
   "outputs": [],
   "source": []
  }
 ],
 "metadata": {
  "kernelspec": {
   "display_name": "Python 3 (ipykernel)",
   "language": "python",
   "name": "python3"
  },
  "language_info": {
   "codemirror_mode": {
    "name": "ipython",
    "version": 3
   },
   "file_extension": ".py",
   "mimetype": "text/x-python",
   "name": "python",
   "nbconvert_exporter": "python",
   "pygments_lexer": "ipython3",
   "version": "3.11.6"
  }
 },
 "nbformat": 4,
 "nbformat_minor": 5
}
