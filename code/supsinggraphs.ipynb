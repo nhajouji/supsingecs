{
 "cells": [
  {
   "cell_type": "code",
   "execution_count": 1,
   "id": "59d68ac4",
   "metadata": {},
   "outputs": [],
   "source": [
    "from supsinggraphs import *"
   ]
  },
  {
   "cell_type": "markdown",
   "id": "dee067c4",
   "metadata": {},
   "source": [
    "A prime is said to be supersingular if it belongs to the following set:"
   ]
  },
  {
   "cell_type": "code",
   "execution_count": 2,
   "id": "b5a7b0c4",
   "metadata": {},
   "outputs": [
    {
     "data": {
      "text/plain": [
       "[2, 3, 5, 7, 11, 13, 17, 19, 23, 29, 31, 41, 47, 59, 71]"
      ]
     },
     "execution_count": 2,
     "metadata": {},
     "output_type": "execute_result"
    }
   ],
   "source": [
    "supersingularprimes"
   ]
  },
  {
   "cell_type": "markdown",
   "id": "c959e8c8",
   "metadata": {},
   "source": [
    "For a prime $p>3$ and a supersingular prime $\\ell$, we can compute the supersingular isogeny graph $\\Gamma_{p,\\ell}$ using the Atkin modular polynomial of level $\\ell$. These polynomials have the form:\n",
    "$ x^2 - a(y) y + b_1(y)b_3(y)^3$\n",
    "where $a(y),  b_1(y)b_3(y)^3 \\in \\mathbb{Z}[y]$ are monic polynomials of degree $\\ell, \\ell+1$,\n",
    "respectively.\n",
    "The coefficients of these polynomials are stored in the database 'adf'."
   ]
  },
  {
   "cell_type": "code",
   "execution_count": 5,
   "id": "afe74026",
   "metadata": {},
   "outputs": [
    {
     "data": {
      "text/html": [
       "<div>\n",
       "<style scoped>\n",
       "    .dataframe tbody tr th:only-of-type {\n",
       "        vertical-align: middle;\n",
       "    }\n",
       "\n",
       "    .dataframe tbody tr th {\n",
       "        vertical-align: top;\n",
       "    }\n",
       "\n",
       "    .dataframe thead th {\n",
       "        text-align: right;\n",
       "    }\n",
       "</style>\n",
       "<table border=\"1\" class=\"dataframe\">\n",
       "  <thead>\n",
       "    <tr style=\"text-align: right;\">\n",
       "      <th></th>\n",
       "      <th>l</th>\n",
       "      <th>a_coefs</th>\n",
       "      <th>b_coefs1</th>\n",
       "      <th>b_coefs3</th>\n",
       "      <th>diag_ds</th>\n",
       "    </tr>\n",
       "  </thead>\n",
       "  <tbody>\n",
       "    <tr>\n",
       "      <th>0</th>\n",
       "      <td>2</td>\n",
       "      <td>[-7256, 1, 1]</td>\n",
       "      <td>[1]</td>\n",
       "      <td>[248, 1]</td>\n",
       "      <td>[-7, -2, -1]</td>\n",
       "    </tr>\n",
       "    <tr>\n",
       "      <th>1</th>\n",
       "      <td>3</td>\n",
       "      <td>[-24528, -2348, 0, 1]</td>\n",
       "      <td>[42, 1]</td>\n",
       "      <td>[234, 1]</td>\n",
       "      <td>[-12, -11, -3, -2]</td>\n",
       "    </tr>\n",
       "    <tr>\n",
       "      <th>2</th>\n",
       "      <td>5</td>\n",
       "      <td>[449408, 73056, -3800, -670, 0, 1]</td>\n",
       "      <td>[1]</td>\n",
       "      <td>[3856, 248, 1]</td>\n",
       "      <td>[-19, -11, -5, -4, -1]</td>\n",
       "    </tr>\n",
       "    <tr>\n",
       "      <th>3</th>\n",
       "      <td>7</td>\n",
       "      <td>[-2128500, -186955, 204792, 31647, -1428, -357...</td>\n",
       "      <td>[81, 18, 1]</td>\n",
       "      <td>[2545, 242, 1]</td>\n",
       "      <td>[-28, -27, -19, -12, -7, -6, -3]</td>\n",
       "    </tr>\n",
       "    <tr>\n",
       "      <th>4</th>\n",
       "      <td>11</td>\n",
       "      <td>[8720000, 19849600, 8252640, -1867712, -167578...</td>\n",
       "      <td>[1]</td>\n",
       "      <td>[38800, 21920, 4056, 248, 1]</td>\n",
       "      <td>[-44, -43, -35, -28, -19, -11, -10, -7, -2]</td>\n",
       "    </tr>\n",
       "    <tr>\n",
       "      <th>5</th>\n",
       "      <td>13</td>\n",
       "      <td>[-24576000, -32384000, 5859360, 23669490, 9614...</td>\n",
       "      <td>[9, 6, 1]</td>\n",
       "      <td>[25600, 16800, 3577, 246, 1]</td>\n",
       "      <td>[-51, -48, -43, -27, -13, -12, -9, -4, -3, -1]</td>\n",
       "    </tr>\n",
       "    <tr>\n",
       "      <th>6</th>\n",
       "      <td>17</td>\n",
       "      <td>[25608112, 128884056, 169635044, 18738794, -12...</td>\n",
       "      <td>[1]</td>\n",
       "      <td>[73252, 122444, 80561, 25988, 4082, 248, 1]</td>\n",
       "      <td>[-67, -59, -43, -19, -17, -16, -13, -8, -4, -2...</td>\n",
       "    </tr>\n",
       "    <tr>\n",
       "      <th>7</th>\n",
       "      <td>19</td>\n",
       "      <td>[-24576000, -90675200, -51363840, 196605312, 3...</td>\n",
       "      <td>[9, 6, 1]</td>\n",
       "      <td>[25600, 57280, 48544, 19312, 3593, 246, 1]</td>\n",
       "      <td>[-76, -75, -67, -60, -51, -27, -19, -18, -15, ...</td>\n",
       "    </tr>\n",
       "    <tr>\n",
       "      <th>8</th>\n",
       "      <td>23</td>\n",
       "      <td>[-65536, -516096, -1648640, -2213888, 1554432,...</td>\n",
       "      <td>[1]</td>\n",
       "      <td>[1024, 5376, 12992, 18432, 16224, 8352, 2384, ...</td>\n",
       "      <td>[-92, -91, -83, -76, -67, -43, -28, -23, -22, ...</td>\n",
       "    </tr>\n",
       "    <tr>\n",
       "      <th>9</th>\n",
       "      <td>29</td>\n",
       "      <td>[-6750, -12150, 281880, 570024, -1754181, -522...</td>\n",
       "      <td>[1]</td>\n",
       "      <td>[225, 270, 459, -744, -3707, -1730, 3365, 4072...</td>\n",
       "      <td>[-115, -112, -107, -91, -67, -35, -29, -28, -2...</td>\n",
       "    </tr>\n",
       "    <tr>\n",
       "      <th>10</th>\n",
       "      <td>31</td>\n",
       "      <td>[-65536, 286720, 2095104, -10856448, -952320, ...</td>\n",
       "      <td>[1, -2, 1]</td>\n",
       "      <td>[1024, -2304, 448, 4096, -2208, -5088, 272, 36...</td>\n",
       "      <td>[-124, -123, -115, -108, -99, -75, -60, -43, -...</td>\n",
       "    </tr>\n",
       "    <tr>\n",
       "      <th>11</th>\n",
       "      <td>41</td>\n",
       "      <td>[16000, 67200, -465760, -2966432, -1742664, 20...</td>\n",
       "      <td>[1]</td>\n",
       "      <td>[400, 1120, -184, -672, 2361, -2926, -7733, 30...</td>\n",
       "      <td>[-163, -155, -139, -115, -83, -43, -41, -40, -...</td>\n",
       "    </tr>\n",
       "    <tr>\n",
       "      <th>12</th>\n",
       "      <td>47</td>\n",
       "      <td>[-65536, 688128, -2502656, -96256, 38598656, -...</td>\n",
       "      <td>[1]</td>\n",
       "      <td>[1024, -7168, 25024, -57984, 102656, -143584, ...</td>\n",
       "      <td>[-188, -187, -179, -172, -163, -139, -124, -10...</td>\n",
       "    </tr>\n",
       "    <tr>\n",
       "      <th>13</th>\n",
       "      <td>59</td>\n",
       "      <td>[16000, -67200, -783520, 5573376, -5127336, -6...</td>\n",
       "      <td>[1]</td>\n",
       "      <td>[400, -1120, -776, 3144, 4945, -10532, -23442,...</td>\n",
       "      <td>[-236, -235, -227, -220, -211, -187, -172, -15...</td>\n",
       "    </tr>\n",
       "    <tr>\n",
       "      <th>14</th>\n",
       "      <td>71</td>\n",
       "      <td>[-6750, 97200, -603855, 2263977, -4854483, -24...</td>\n",
       "      <td>[1]</td>\n",
       "      <td>[225, -2160, 9936, -33576, 98512, -235776, 501...</td>\n",
       "      <td>[-284, -283, -275, -268, -259, -235, -220, -20...</td>\n",
       "    </tr>\n",
       "  </tbody>\n",
       "</table>\n",
       "</div>"
      ],
      "text/plain": [
       "     l                                            a_coefs     b_coefs1  \\\n",
       "0    2                                      [-7256, 1, 1]          [1]   \n",
       "1    3                              [-24528, -2348, 0, 1]      [42, 1]   \n",
       "2    5                 [449408, 73056, -3800, -670, 0, 1]          [1]   \n",
       "3    7  [-2128500, -186955, 204792, 31647, -1428, -357...  [81, 18, 1]   \n",
       "4   11  [8720000, 19849600, 8252640, -1867712, -167578...          [1]   \n",
       "5   13  [-24576000, -32384000, 5859360, 23669490, 9614...    [9, 6, 1]   \n",
       "6   17  [25608112, 128884056, 169635044, 18738794, -12...          [1]   \n",
       "7   19  [-24576000, -90675200, -51363840, 196605312, 3...    [9, 6, 1]   \n",
       "8   23  [-65536, -516096, -1648640, -2213888, 1554432,...          [1]   \n",
       "9   29  [-6750, -12150, 281880, 570024, -1754181, -522...          [1]   \n",
       "10  31  [-65536, 286720, 2095104, -10856448, -952320, ...   [1, -2, 1]   \n",
       "11  41  [16000, 67200, -465760, -2966432, -1742664, 20...          [1]   \n",
       "12  47  [-65536, 688128, -2502656, -96256, 38598656, -...          [1]   \n",
       "13  59  [16000, -67200, -783520, 5573376, -5127336, -6...          [1]   \n",
       "14  71  [-6750, 97200, -603855, 2263977, -4854483, -24...          [1]   \n",
       "\n",
       "                                             b_coefs3  \\\n",
       "0                                            [248, 1]   \n",
       "1                                            [234, 1]   \n",
       "2                                      [3856, 248, 1]   \n",
       "3                                      [2545, 242, 1]   \n",
       "4                        [38800, 21920, 4056, 248, 1]   \n",
       "5                        [25600, 16800, 3577, 246, 1]   \n",
       "6         [73252, 122444, 80561, 25988, 4082, 248, 1]   \n",
       "7          [25600, 57280, 48544, 19312, 3593, 246, 1]   \n",
       "8   [1024, 5376, 12992, 18432, 16224, 8352, 2384, ...   \n",
       "9   [225, 270, 459, -744, -3707, -1730, 3365, 4072...   \n",
       "10  [1024, -2304, 448, 4096, -2208, -5088, 272, 36...   \n",
       "11  [400, 1120, -184, -672, 2361, -2926, -7733, 30...   \n",
       "12  [1024, -7168, 25024, -57984, 102656, -143584, ...   \n",
       "13  [400, -1120, -776, 3144, 4945, -10532, -23442,...   \n",
       "14  [225, -2160, 9936, -33576, 98512, -235776, 501...   \n",
       "\n",
       "                                              diag_ds  \n",
       "0                                        [-7, -2, -1]  \n",
       "1                                  [-12, -11, -3, -2]  \n",
       "2                              [-19, -11, -5, -4, -1]  \n",
       "3                    [-28, -27, -19, -12, -7, -6, -3]  \n",
       "4         [-44, -43, -35, -28, -19, -11, -10, -7, -2]  \n",
       "5      [-51, -48, -43, -27, -13, -12, -9, -4, -3, -1]  \n",
       "6   [-67, -59, -43, -19, -17, -16, -13, -8, -4, -2...  \n",
       "7   [-76, -75, -67, -60, -51, -27, -19, -18, -15, ...  \n",
       "8   [-92, -91, -83, -76, -67, -43, -28, -23, -22, ...  \n",
       "9   [-115, -112, -107, -91, -67, -35, -29, -28, -2...  \n",
       "10  [-124, -123, -115, -108, -99, -75, -60, -43, -...  \n",
       "11  [-163, -155, -139, -115, -83, -43, -41, -40, -...  \n",
       "12  [-188, -187, -179, -172, -163, -139, -124, -10...  \n",
       "13  [-236, -235, -227, -220, -211, -187, -172, -15...  \n",
       "14  [-284, -283, -275, -268, -259, -235, -220, -20...  "
      ]
     },
     "execution_count": 5,
     "metadata": {},
     "output_type": "execute_result"
    }
   ],
   "source": [
    "adf"
   ]
  },
  {
   "cell_type": "markdown",
   "id": "c589c32a",
   "metadata": {},
   "source": [
    "Say we are interested in the graph $\\Gamma_{79,71}$, i.e. $p = 79, \\ell = 71$.\n",
    "\n",
    "To begin, we can obtain the trace of the graph."
   ]
  },
  {
   "cell_type": "code",
   "execution_count": 3,
   "id": "9c7797f5",
   "metadata": {},
   "outputs": [
    {
     "data": {
      "text/plain": [
       "80"
      ]
     },
     "execution_count": 3,
     "metadata": {},
     "output_type": "execute_result"
    }
   ],
   "source": [
    "trace_pred(193,71)"
   ]
  },
  {
   "cell_type": "code",
   "execution_count": 4,
   "id": "351b748b",
   "metadata": {},
   "outputs": [],
   "source": [
    "ab0 = findSSab(193)"
   ]
  },
  {
   "cell_type": "code",
   "execution_count": 5,
   "id": "05efbf44",
   "metadata": {},
   "outputs": [
    {
     "data": {
      "text/plain": [
       "(74, 29)"
      ]
     },
     "execution_count": 5,
     "metadata": {},
     "output_type": "execute_result"
    }
   ],
   "source": [
    "ab0"
   ]
  },
  {
   "cell_type": "code",
   "execution_count": 6,
   "id": "115d2746",
   "metadata": {},
   "outputs": [],
   "source": [
    "g2 = two_iso_graph(193)"
   ]
  },
  {
   "cell_type": "code",
   "execution_count": 11,
   "id": "2e5dfc76",
   "metadata": {},
   "outputs": [
    {
     "data": {
      "text/plain": [
       "[0, 0, 0, 0, 0, 0, 0, 0, 0, 0, 0, 0, 0, 0, 0, 0]"
      ]
     },
     "execution_count": 11,
     "metadata": {},
     "output_type": "execute_result"
    }
   ],
   "source": [
    "[graph2mat(g2n)[i][i] for i in range(193//12)]"
   ]
  },
  {
   "cell_type": "code",
   "execution_count": 9,
   "id": "09618236",
   "metadata": {},
   "outputs": [],
   "source": [
    "g2n = {int(j):[int(j2) for j2 in g2[j]] for j in g2}"
   ]
  },
  {
   "cell_type": "code",
   "execution_count": 12,
   "id": "fa869444",
   "metadata": {},
   "outputs": [],
   "source": [
    "ss193 = SupSingGraphs(193)"
   ]
  },
  {
   "cell_type": "code",
   "execution_count": 13,
   "id": "5c0eb754",
   "metadata": {},
   "outputs": [],
   "source": [
    "m=ss193.adj_matrix(71)"
   ]
  },
  {
   "cell_type": "code",
   "execution_count": 15,
   "id": "370269dd",
   "metadata": {},
   "outputs": [
    {
     "data": {
      "text/plain": [
       "80"
      ]
     },
     "execution_count": 15,
     "metadata": {},
     "output_type": "execute_result"
    }
   ],
   "source": [
    "sum([m[i][i] for i in range(193//12)])"
   ]
  },
  {
   "cell_type": "code",
   "execution_count": null,
   "id": "24484525",
   "metadata": {},
   "outputs": [],
   "source": []
  }
 ],
 "metadata": {
  "kernelspec": {
   "display_name": "Python 3 (ipykernel)",
   "language": "python",
   "name": "python3"
  },
  "language_info": {
   "codemirror_mode": {
    "name": "ipython",
    "version": 3
   },
   "file_extension": ".py",
   "mimetype": "text/x-python",
   "name": "python",
   "nbconvert_exporter": "python",
   "pygments_lexer": "ipython3",
   "version": "3.11.3"
  }
 },
 "nbformat": 4,
 "nbformat_minor": 5
}
