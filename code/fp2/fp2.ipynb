{
 "cells": [
  {
   "cell_type": "code",
   "execution_count": 1,
   "id": "59d68ac4",
   "metadata": {},
   "outputs": [],
   "source": [
    "from fp2 import *"
   ]
  },
  {
   "attachments": {},
   "cell_type": "markdown",
   "id": "32e0546b",
   "metadata": {},
   "source": [
    "Let $p$ be a prime. We use the class EltFp2 to represent and manipulate elements in the field with $p^2$ elements."
   ]
  },
  {
   "cell_type": "code",
   "execution_count": 2,
   "id": "c38a231c",
   "metadata": {},
   "outputs": [],
   "source": [
    "p = 15073"
   ]
  },
  {
   "attachments": {},
   "cell_type": "markdown",
   "id": "0a328f7a",
   "metadata": {},
   "source": [
    "To get started, we need to construct the field, which means we need to find a nonsquare. "
   ]
  },
  {
   "cell_type": "code",
   "execution_count": 3,
   "id": "06d38406",
   "metadata": {},
   "outputs": [
    {
     "data": {
      "text/plain": [
       "-1"
      ]
     },
     "execution_count": 3,
     "metadata": {},
     "output_type": "execute_result"
    }
   ],
   "source": [
    "qr(-5,p)"
   ]
  },
  {
   "attachments": {},
   "cell_type": "markdown",
   "id": "02370703",
   "metadata": {},
   "source": [
    "The function getnonsquare automatically finds such a nonsquare for us:"
   ]
  },
  {
   "cell_type": "code",
   "execution_count": 5,
   "id": "a46d33a2",
   "metadata": {},
   "outputs": [
    {
     "name": "stdout",
     "output_type": "stream",
     "text": [
      "-5\n"
     ]
    }
   ],
   "source": [
    "d= getnonsquare(p)\n",
    "print(d)"
   ]
  },
  {
   "attachments": {},
   "cell_type": "markdown",
   "id": "6c850832",
   "metadata": {},
   "source": [
    "Every element of F_p^2 can be written as a + b sqrt(d) for a, b in Fp.\n",
    "We will associate to this element the integer a + p*b, where a, b are chosen in the range 0, 1, .. p-1. Every element of Fp2 can be obtained from a unique integer between 0 and p^2 - 1 in this way.\n",
    "\n",
    "To describe an element in Fp2, we specify two integers: N and p.\n",
    "These integers allow us to extract a = N % p and b = N//p, which allow us to obtain the element a + b sqrt(d) represented by N, p."
   ]
  },
  {
   "cell_type": "code",
   "execution_count": 6,
   "id": "25f5ba9e",
   "metadata": {},
   "outputs": [],
   "source": [
    "x1 = EltFp2(1+2*p,p)\n",
    "x2 = EltFp2(1728,p)\n",
    "x3 = EltFp2(p*17+28,p)"
   ]
  },
  {
   "cell_type": "code",
   "execution_count": 7,
   "id": "ddacbbf2",
   "metadata": {},
   "outputs": [
    {
     "data": {
      "text/plain": [
       "1+2 sqrt(-5)"
      ]
     },
     "execution_count": 7,
     "metadata": {},
     "output_type": "execute_result"
    }
   ],
   "source": [
    "x1"
   ]
  },
  {
   "cell_type": "code",
   "execution_count": 8,
   "id": "c2e8733e",
   "metadata": {},
   "outputs": [
    {
     "data": {
      "text/plain": [
       "1728"
      ]
     },
     "execution_count": 8,
     "metadata": {},
     "output_type": "execute_result"
    }
   ],
   "source": [
    "x2"
   ]
  },
  {
   "cell_type": "code",
   "execution_count": 9,
   "id": "35f125e9",
   "metadata": {},
   "outputs": [
    {
     "data": {
      "text/plain": [
       "28+17 sqrt(-5)"
      ]
     },
     "execution_count": 9,
     "metadata": {},
     "output_type": "execute_result"
    }
   ],
   "source": [
    "x3"
   ]
  },
  {
   "attachments": {},
   "cell_type": "markdown",
   "id": "14bf49cb",
   "metadata": {},
   "source": [
    "We can add, subtract, etc."
   ]
  },
  {
   "cell_type": "code",
   "execution_count": 10,
   "id": "7e1d74e9",
   "metadata": {},
   "outputs": [
    {
     "data": {
      "text/plain": [
       "1729+2 sqrt(-5)"
      ]
     },
     "execution_count": 10,
     "metadata": {},
     "output_type": "execute_result"
    }
   ],
   "source": [
    "x1+x2"
   ]
  },
  {
   "cell_type": "code",
   "execution_count": 11,
   "id": "6cb370ac",
   "metadata": {},
   "outputs": [
    {
     "data": {
      "text/plain": [
       "3184+14299 sqrt(-5)"
      ]
     },
     "execution_count": 11,
     "metadata": {},
     "output_type": "execute_result"
    }
   ],
   "source": [
    "x2*x3-x1**2"
   ]
  },
  {
   "cell_type": "code",
   "execution_count": 12,
   "id": "e75035b3",
   "metadata": {},
   "outputs": [
    {
     "data": {
      "text/plain": [
       "1"
      ]
     },
     "execution_count": 12,
     "metadata": {},
     "output_type": "execute_result"
    }
   ],
   "source": [
    "x2**(p-1)"
   ]
  },
  {
   "attachments": {},
   "cell_type": "markdown",
   "id": "225a5807",
   "metadata": {},
   "source": [
    "We can solve quadratic equations."
   ]
  },
  {
   "cell_type": "code",
   "execution_count": 15,
   "id": "f73071fd",
   "metadata": {},
   "outputs": [],
   "source": [
    "a = x1+x2\n",
    "b = x1*x2"
   ]
  },
  {
   "cell_type": "code",
   "execution_count": 16,
   "id": "628eb6d6",
   "metadata": {},
   "outputs": [],
   "source": [
    "disc = a*a-4*b"
   ]
  },
  {
   "cell_type": "code",
   "execution_count": 17,
   "id": "34ea1d36",
   "metadata": {},
   "outputs": [
    {
     "data": {
      "text/plain": [
       "13128+8165 sqrt(-5)"
      ]
     },
     "execution_count": 17,
     "metadata": {},
     "output_type": "execute_result"
    }
   ],
   "source": [
    "disc"
   ]
  },
  {
   "attachments": {},
   "cell_type": "markdown",
   "id": "22bb0ace",
   "metadata": {},
   "source": [
    "Square roots are computed using Lemma 2.5 from the paper:"
   ]
  },
  {
   "cell_type": "code",
   "execution_count": 18,
   "id": "27863fc5",
   "metadata": {},
   "outputs": [
    {
     "data": {
      "text/plain": [
       "[1727+15071 sqrt(-5), 13346+2 sqrt(-5)]"
      ]
     },
     "execution_count": 18,
     "metadata": {},
     "output_type": "execute_result"
    }
   ],
   "source": [
    "disc.sqrts()"
   ]
  },
  {
   "attachments": {},
   "cell_type": "markdown",
   "id": "98f3abd2",
   "metadata": {},
   "source": [
    "This allows us to solve quadratics using the quadratic formula. Given (a,b), where a,b are elements of Fp2, we can use the function quad_roots((a,b)) to obtain the roots of x^2 - ax + b = 0 in Fp2."
   ]
  },
  {
   "cell_type": "code",
   "execution_count": 19,
   "id": "7ce3eaaa",
   "metadata": {},
   "outputs": [],
   "source": [
    "quadcoefs = (-a,b)"
   ]
  },
  {
   "cell_type": "code",
   "execution_count": 20,
   "id": "da75b6f9",
   "metadata": {},
   "outputs": [
    {
     "data": {
      "text/plain": [
       "[1728, 1+2 sqrt(-5)]"
      ]
     },
     "execution_count": 20,
     "metadata": {},
     "output_type": "execute_result"
    }
   ],
   "source": [
    "quad_roots(quadcoefs)"
   ]
  },
  {
   "attachments": {},
   "cell_type": "markdown",
   "id": "463570ac",
   "metadata": {},
   "source": [
    "Note that the output can be empty if the quadratic has no roots in Fp2:"
   ]
  },
  {
   "cell_type": "code",
   "execution_count": 21,
   "id": "741d0e21",
   "metadata": {},
   "outputs": [
    {
     "data": {
      "text/plain": [
       "[]"
      ]
     },
     "execution_count": 21,
     "metadata": {},
     "output_type": "execute_result"
    }
   ],
   "source": [
    "quad_roots((b,a))"
   ]
  },
  {
   "cell_type": "code",
   "execution_count": null,
   "id": "8beb4743",
   "metadata": {},
   "outputs": [],
   "source": []
  }
 ],
 "metadata": {
  "kernelspec": {
   "display_name": "Python 3 (ipykernel)",
   "language": "python",
   "name": "python3"
  },
  "language_info": {
   "codemirror_mode": {
    "name": "ipython",
    "version": 3
   },
   "file_extension": ".py",
   "mimetype": "text/x-python",
   "name": "python",
   "nbconvert_exporter": "python",
   "pygments_lexer": "ipython3",
   "version": "3.11.3"
  }
 },
 "nbformat": 4,
 "nbformat_minor": 5
}
